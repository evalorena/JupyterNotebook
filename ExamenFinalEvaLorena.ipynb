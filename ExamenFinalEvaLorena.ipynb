{
 "cells": [
  {
   "cell_type": "markdown",
   "metadata": {},
   "source": [
    "# Examen Final - Mortalidad Materna                       Eva Lorena García Gómez\n",
    "\n",
    "## Introducción \n",
    "\n",
    "La base de datos contiene información de los casos de defunción relacionados con la mortalidad materna, esta información es pública. \n",
    "\n",
    "\n",
    "## Reglas\n",
    " - Tendrán 3 horas para la realización del examen. \n",
    " - En cualquier momento, las alumnas podrán tomarse un descanso para ir al baño o para tomar café. En ningún momento se podrá conversar con sus compañeras. \n",
    " - Pueden usar sus códigos y recursos en línea. \n",
    " - No pueden trabajar en equipo. \n",
    " - El resultado de esta evaluación es puramente para encontrar áres de oportunidad en la forma de trabajo de CEROUNO. La calificación obtenida no pone en juego de ninguna manera la permanencia en el programa. \n",
    " - No se podrá ofrecer ayuda por parte del mentor y del asistente de clase para la solución del examen. Las únicas dudas que podrán ser respondidas son las pertinentes a los secretos del universo.\n",
    " \n",
    "## Parte 1 - Presentación ( 5 puntos )\n",
    " \n",
    "Presenta tus resultados en una libreta de Jupyter de manera clara y concisa. Deberás explicar tu método de resolución, el algoritmo, las gráficas y/o DataFrame final y las conclusiones.\n",
    "\n",
    "## Parte 2 - Preámbulo ( 5 puntos )\n",
    "\n",
    "Presenta todo lo necesario para comenzar tu análisis de la información. Todo deberá estar comentado para que el usuario final y puede ser entendido\n",
    "\n",
    "\n",
    "\n",
    "\n",
    "## Parte 3 - Análisis inicial (20 puntos)\n",
    "\n",
    "- Nombre de los encabezados \n",
    "- Muestra un DataFrame que contenga: Edad cumplida, Descripción del estado conyugal, Tamaño de localidad, Localidad de ocurrencia, Descrición de la localidad de ocurrencia\n",
    "- ¿Cuántas edades diferentes tenían las madres cuando fallecieron? Obten los estadísticos para esta columna y los valores de las edades diferentes. \n",
    "- Imprime los valores de los años de defunción ¿ Existen datos que son lógicos, es decir, están correctos? \n",
    "- ¿Cuántos tipos de escolaridad existen? ¿Hay datos innecesarios o equivocados en la base de datos? \n",
    "- ¿Qué entidad tiene mayor número muertes? \n",
    "\n",
    "## Parte 4 - Búsqueda de datos (25 puntos + 5 puntos extra )\n",
    " \n",
    "Imprime 2 DataFrames que sinteticen cierta información. Estos DataFrames deberán estar explicados con el contexto y el razón de porque son relevantes. Imprime solo el encabezado. \n",
    "\n",
    "Puntos extra: Entrega un análisis simple de cada DataFrame\n",
    " \n",
    " ## Parte 5 - Información gráfica (40 puntos + 20 puntos extra)\n",
    "\n",
    "- Realiza un analísis utilizando una gráfica de línea\n",
    "\n",
    "- Realiza un análisis de la relación entre dos variables. \n",
    "\n",
    "- Realizar un análisis donde se necesite usar histogramas. \n",
    "\n",
    "- Presenta un análisis utilizando una gráfica de barras de los indicadores para múltiples paises. (PUNTOS EXTRA) \n",
    "\n",
    "- Realicen una análisis de correlación para 4 variables (PUNTOS EXTRA) (¿Scatter or density?)\n",
    "\n",
    "\n"
   ]
  },
  {
   "cell_type": "markdown",
   "metadata": {},
   "source": [
    "   "
   ]
  },
  {
   "cell_type": "markdown",
   "metadata": {},
   "source": [
    "# Parte 2 - Preámbulo\n",
    "\n",
    "## Que voy a hacer?\n",
    "\n",
    "Para este examen es necesario entender que iré trabajando linearmente, punto por punto y que me gusta mucho visualizar los datasets que voy creando.\n",
    "\n",
    "Cada paso lleva comentarios y es como la parte del algoritmo donde veo que voy a hacer, y posteriormente el código donde lo ejecuto.\n",
    "\n",
    "-Buscar patrones\n",
    "-Buscar relaciones\n",
    "-Cosas curiosas de los datos\n",
    "\n",
    "## Qué usaré hoy?\n",
    "mis imports de pandas, numpy y matplotlib"
   ]
  },
  {
   "cell_type": "markdown",
   "metadata": {},
   "source": [
    "## Parte 3 - Análisis inicial (20 puntos)\n",
    "\n",
    "- Nombre de los encabezados \n",
    "- Muestra un DataFrame que contenga: Edad cumplida, Descripción del estado conyugal, Tamaño de localidad, Localidad de ocurrencia, Descrición de la localidad de ocurrencia\n",
    "- ¿Cuántas edades diferentes tenían las madres cuando fallecieron? Obten los estadísticos para esta columna y los valores de las edades diferentes. \n",
    "- Imprime los valores de los años de defunción ¿ Existen datos que son lógicos, es decir, están correctos? \n",
    "- ¿Cuántos tipos de escolaridad existen? ¿Hay datos innecesarios o equivocados en la base de datos? \n",
    "- ¿Qué entidad tiene mayor número muertes? "
   ]
  },
  {
   "cell_type": "code",
   "execution_count": 1,
   "metadata": {},
   "outputs": [],
   "source": [
    "#Empiezo importando todas las librerias que voy a utilizar\n",
    "#importando las librerias necesarias\n",
    "import numpy as np\n",
    "import matplotlib.pyplot as plt\n",
    "import pandas as pd\n",
    "#esto es necesrio pra el kmeans\n",
    "from sklearn.cluster import KMeans\n",
    "from sklearn.preprocessing import LabelEncoder\n",
    "from sklearn.preprocessing import MinMaxScaler\n",
    "import seaborn as sns\n"
   ]
  },
  {
   "cell_type": "code",
   "execution_count": null,
   "metadata": {},
   "outputs": [],
   "source": [
    "#Cargar la base de datos, que se encuentra en la misma capeta\n",
    "#como mortalidad, en un dtaset llmado BdD\n",
    "BdD=pd.read_csv('mortalidad.csv')"
   ]
  },
  {
   "cell_type": "code",
   "execution_count": null,
   "metadata": {},
   "outputs": [],
   "source": [
    "#Visualizo mi dataset\n",
    "BdD"
   ]
  },
  {
   "cell_type": "markdown",
   "metadata": {},
   "source": [
    "## Nombre de los encabezados"
   ]
  },
  {
   "cell_type": "code",
   "execution_count": null,
   "metadata": {},
   "outputs": [],
   "source": [
    "#muetro la BdD con list()y muestra el titulo de las columnas\n",
    "list(BdD)"
   ]
  },
  {
   "cell_type": "code",
   "execution_count": null,
   "metadata": {},
   "outputs": [],
   "source": []
  },
  {
   "cell_type": "code",
   "execution_count": null,
   "metadata": {},
   "outputs": [],
   "source": []
  },
  {
   "cell_type": "markdown",
   "metadata": {},
   "source": [
    "## Muestra un DataFrame que contenga: Edad cumplida, Descripción del estado conyugal, Tamaño de localidad, Localidad de ocurrencia, Descripción de la localidad de ocurrencia"
   ]
  },
  {
   "cell_type": "code",
   "execution_count": null,
   "metadata": {},
   "outputs": [],
   "source": [
    "#vacio mi dataset en uno nuevo el cual llamare DatosIni\n",
    "DatosIni=BdD"
   ]
  },
  {
   "cell_type": "code",
   "execution_count": null,
   "metadata": {},
   "outputs": [],
   "source": [
    "# este dtaset le voy a borrar las columnas que no son las mencionadas arriba con el metodo drop\n",
    "#checar sintaxis\n",
    "DatosPresentacion=DatosIni.drop(['Año de nacimiento','Mes de nacimiento','Descripción del mes de nacimiento','Día de nacimiento','Genero','Mes de registro','Descripción del mes de registro','Día de registro','Año de la certificación','Mes de la certificación','Descripció del mes de la certificación','Día de la certificación','Año de la base de datos'],axis=1)"
   ]
  },
  {
   "cell_type": "code",
   "execution_count": null,
   "metadata": {},
   "outputs": [],
   "source": [
    "#aqui borro la segunda parte de las columnas, lo asigno al mismo dataset porque es sobre el que voy a trabajar\n",
    "DatosPresentacion=DatosPresentacion.drop(['Descripción del municipio de residencia','Ocupación habitual'],axis=1)"
   ]
  },
  {
   "cell_type": "code",
   "execution_count": null,
   "metadata": {
    "scrolled": true
   },
   "outputs": [],
   "source": [
    "#Construir un Dataset que contenga Edad cumplida, Descripción del estado conyugal, Tamaño de localidad, \n",
    "#Localidad de ocurrencia, Descripción de la localidad de ocurrencia\n",
    "pd.DataFrame(DatosPresentacion)"
   ]
  },
  {
   "cell_type": "markdown",
   "metadata": {},
   "source": [
    "## ¿Cuántas edades diferentes tenían las madres cuando fallecieron? Obten los estadísticos para esta columna y los valores de las edades diferentes."
   ]
  },
  {
   "cell_type": "code",
   "execution_count": null,
   "metadata": {},
   "outputs": [],
   "source": [
    "#En este primer dato se puede observar la descripción estadística, \n",
    "#la edad promedio cuando las mdres fallecieron era de 29.76 años\n",
    "DatosPresentacion.describe()"
   ]
  },
  {
   "cell_type": "code",
   "execution_count": null,
   "metadata": {},
   "outputs": [],
   "source": [
    "#A continuación se dan mas detalles\n",
    "#fAqui se muestran si hay edades repetidas\n",
    "print(\"EDAD CANTIDAD_MUERTES\")\n",
    "DatosPresentacion['Edad cumplida'].value_counts()\n"
   ]
  },
  {
   "cell_type": "code",
   "execution_count": null,
   "metadata": {},
   "outputs": [],
   "source": [
    "#Edades diferentes a las que fallecieron\n",
    "print(\"Edades diferentes a las que fallecieron {}años\".format(len(EdadFallecim)))"
   ]
  },
  {
   "cell_type": "markdown",
   "metadata": {},
   "source": [
    "## Imprime los valores de los años de defunción ¿ Existen datos que son lógicos, es decir, están correctos?"
   ]
  },
  {
   "cell_type": "code",
   "execution_count": null,
   "metadata": {
    "scrolled": true
   },
   "outputs": [],
   "source": [
    "#a mi me suenan lógicos excepto el 998.\n",
    "#EDIT: en la version 2 y ya pensando un poco mas no es logica la mortandad materna a los 86 años por lo que \n",
    "#debería reducirse un poco la edad a la reproductiva, aproximamente 10-50 años donde empieza la menopausia\n",
    "DatosPresentacion['Año de la defunción'].value_counts()\n"
   ]
  },
  {
   "cell_type": "markdown",
   "metadata": {},
   "source": [
    "### ¿Cuántos tipos de escolaridad existen? ¿Hay datos innecesarios o equivocados en la base de datos? "
   ]
  },
  {
   "cell_type": "code",
   "execution_count": null,
   "metadata": {},
   "outputs": [],
   "source": [
    "tiposesco=DatosPresentacion['Descripción de la escolaridad'].unique()\n",
    "tiposesco"
   ]
  },
  {
   "cell_type": "code",
   "execution_count": null,
   "metadata": {},
   "outputs": [],
   "source": [
    "#Solo hay doce tipos de escolaridad los cuales se muestran arriba\n",
    "len(tiposesco)"
   ]
  },
  {
   "cell_type": "markdown",
   "metadata": {},
   "source": [
    "De esos 12 tipos de datos, se repiten 'NO ESPECIFICADO' y 'NO ESPECIFICADO\\r\\n'... y varios como preescolar es innecesario porque podria ser solo 'PRIMARIA COMPLETA','SECUNDARIA COMPLETA', 'BACHILLERATO O PREPARATORIA COMPLETA','PROFESIONAL','POSGRADO' y 'NO ESPECIFICADO'\n",
    "  "
   ]
  },
  {
   "cell_type": "code",
   "execution_count": null,
   "metadata": {
    "scrolled": true
   },
   "outputs": [],
   "source": [
    "IdxEscolaridad= DatosPresentacion.set_index(['Escolaridad'])\n",
    "IdxEscolaridad"
   ]
  },
  {
   "cell_type": "markdown",
   "metadata": {},
   "source": [
    "###  ¿Qué entidad tiene mayor número muertes?"
   ]
  },
  {
   "cell_type": "code",
   "execution_count": null,
   "metadata": {},
   "outputs": [],
   "source": [
    "#Verificar donde ocurrieron el mayor numro de muertes\n",
    "#'Sitio donde ocurrio la defunción'\n",
    "muertesporsitio=DatosPresentacion.set_index(['Sitio donde ocurrio la defunción'])\n",
    "muertesporsitio"
   ]
  },
  {
   "cell_type": "code",
   "execution_count": null,
   "metadata": {
    "scrolled": true
   },
   "outputs": [],
   "source": [
    "#Verificar donde ocurrieron el mayor numro de muertes\n",
    "#Ordenados de ayor a menor\n",
    "print(\"Aqui podemos observar un lista los lugares donde mas muertes hubo\")\n",
    "DatosPresentacion['Descripción de entidad de residencia'].value_counts()\n"
   ]
  },
  {
   "cell_type": "markdown",
   "metadata": {},
   "source": [
    "## Parte 4 - Búsqueda de datos (25 puntos + 5 puntos extra )\n",
    "\n",
    "Imprime 2 DataFrames que sinteticen cierta información. Estos DataFrames deberán estar explicados con el contexto y el razón de porque son relevantes. Imprime solo el encabezado.\n",
    "\n",
    "Puntos extra: Entrega un análisis simple de cada DataFrame"
   ]
  },
  {
   "cell_type": "code",
   "execution_count": null,
   "metadata": {},
   "outputs": [],
   "source": [
    "#Escolridad de mujeres que fallecen dando  luz en Edo de mexico\n",
    "EdoMex=BdD[BdD['Descripción de entidad de residencia'] =='México']\n",
    "#Elegi el estado de mexico porque es donde suceden el myor numero de muertes y de aqui se puede sacar mas información como \n",
    "#el año en el que fallecieron, la escolariad, estado conyugal, descripción de l razon de mortandad y con eso podemos\n",
    "#darnos una ide de por qué aquí es donde suceden el mayor número de muertes\n",
    "\n",
    "print(\"Podemos ver que hay {} fallecimientos de madres al dar a luz\".format(len(EdoMex)))"
   ]
  },
  {
   "cell_type": "code",
   "execution_count": null,
   "metadata": {},
   "outputs": [],
   "source": [
    "#aqui obervo los dtos brutos para sacar lo menciondo arriba\n",
    "#el año en el que fallecieron, la escolariad, estado conyugal, descripción de l razon de mortandad y con eso podemos\n",
    "#darnos una ide de por qué aquí es donde suceden el mayor número de muertes\n",
    "pd.DataFrame(EdoMex)"
   ]
  },
  {
   "cell_type": "code",
   "execution_count": null,
   "metadata": {},
   "outputs": [],
   "source": [
    "#hice el segundo dataset: aqui tome el estdo y lo filtre para sacar solo las muertes de mujeres menores a 18 años\n",
    "edomexEdad=EdoMex[EdoMex['Edad cumplida']<18]\n",
    "\n",
    "edomexEdad.describe()\n",
    "#y podemos ver que tenemos 135 muertes de adolescentes en el estado de México durante el parto y eran chicas de 16 años\n",
    "#sin embargo, esun porcentaje muy pequeño por lo que me hace preguntrarme mas cosas acerca del motivo de ls muertes,\n",
    "#edad, si estan en situcion de pobreza, escolaridad"
   ]
  },
  {
   "cell_type": "code",
   "execution_count": null,
   "metadata": {},
   "outputs": [],
   "source": [
    "#'Descripción de la ocupación habitual'\n",
    "#acomodo por la ocupacion que tienen\n",
    "EdoMex.sort_values(by=['Ocupación habitual'],axis=0,ascending=False).head()\n",
    "#EdoMex=EdoMex.drop(['Quien certificó','Descrición de quien certificó'],axis=1)"
   ]
  },
  {
   "cell_type": "code",
   "execution_count": null,
   "metadata": {},
   "outputs": [],
   "source": []
  },
  {
   "cell_type": "code",
   "execution_count": null,
   "metadata": {
    "scrolled": true
   },
   "outputs": [],
   "source": [
    "#quiero saber su status social, si estaban solteras, casadas, etc\n",
    "EdoMex.sort_values(by=['Estado conyugal'],axis=0,ascending=False)\n",
    "EdoMex.head()"
   ]
  },
  {
   "cell_type": "code",
   "execution_count": null,
   "metadata": {},
   "outputs": [],
   "source": []
  },
  {
   "cell_type": "markdown",
   "metadata": {},
   "source": [
    "# AQUI EMPIEZA EL MODELADO DE DATOS DE MACHINE LEARNING \n",
    "## SEMANA 3"
   ]
  },
  {
   "cell_type": "code",
   "execution_count": null,
   "metadata": {},
   "outputs": [],
   "source": []
  },
  {
   "cell_type": "code",
   "execution_count": 2,
   "metadata": {},
   "outputs": [],
   "source": [
    "BdDkmeans=pd.read_csv('mortalidad.csv')"
   ]
  },
  {
   "cell_type": "code",
   "execution_count": 3,
   "metadata": {},
   "outputs": [],
   "source": [
    "BdDkmeans=BdDkmeans[BdDkmeans['Edad cumplida']<=50]"
   ]
  },
  {
   "cell_type": "code",
   "execution_count": 4,
   "metadata": {
    "scrolled": true
   },
   "outputs": [
    {
     "name": "stdout",
     "output_type": "stream",
     "text": [
      "   Año de nacimiento  Mes de nacimiento Descripción del mes de nacimiento  \\\n",
      "0               1972                  6                             JUNIO   \n",
      "1               1967                  2                           FEBRERO   \n",
      "2               1973                  6                             JUNIO   \n",
      "3               1966                  1                             ENERO   \n",
      "4               1975                  0                   NO ESPECIFICADO   \n",
      "\n",
      "   Día de nacimiento  Genero Clave de la edad  Edad cumplida  Estado conyugal  \\\n",
      "0                 25       2                A             29                5   \n",
      "1                  1       2                A             35                5   \n",
      "2                 21       2                A             29                5   \n",
      "3                 23       2                A             36                5   \n",
      "4                  0       2                A             30                5   \n",
      "\n",
      "  Descripción del estado conyugal  Entidad de residencia  \\\n",
      "0                          CASADO                     31   \n",
      "1                          CASADO                     31   \n",
      "2                          CASADO                     31   \n",
      "3                          CASADO                     31   \n",
      "4                          CASADO                      9   \n",
      "\n",
      "                         ...                         Mes de registro  \\\n",
      "0                        ...                                       1   \n",
      "1                        ...                                       7   \n",
      "2                        ...                                      10   \n",
      "3                        ...                                      10   \n",
      "4                        ...                                       4   \n",
      "\n",
      "   Descripción del mes de registro Día de registro  Año de la certificación  \\\n",
      "0                            ENERO              20                      NaN   \n",
      "1                            JULIO              28                      NaN   \n",
      "2                          OCTUBRE              24                      NaN   \n",
      "3                          OCTUBRE              20                      NaN   \n",
      "4                            ABRIL               8                   2005.0   \n",
      "\n",
      "  Mes de la certificación  Descripció del mes de la certificación  \\\n",
      "0                       0                         NO ESPECIFICADO   \n",
      "1                       0                         NO ESPECIFICADO   \n",
      "2                       0                         NO ESPECIFICADO   \n",
      "3                       0                         NO ESPECIFICADO   \n",
      "4                       4                                   ABRIL   \n",
      "\n",
      "  Día de la certificación  Año de la base de datos  \\\n",
      "0                     NaN                     2002   \n",
      "1                     NaN                     2002   \n",
      "2                     NaN                     2002   \n",
      "3                     NaN                     2002   \n",
      "4                     8.0                     2005   \n",
      "\n",
      "  Razón de mortalidad materna  \\\n",
      "0                           1   \n",
      "1                           1   \n",
      "2                           1   \n",
      "3                           1   \n",
      "4                           1   \n",
      "\n",
      "        Descrición de la razón de mortalidad materna  \n",
      "0  Muertes Maternas para la razón de Mortalidad M...  \n",
      "1  Muertes Maternas para la razón de Mortalidad M...  \n",
      "2  Muertes Maternas para la razón de Mortalidad M...  \n",
      "3  Muertes Maternas para la razón de Mortalidad M...  \n",
      "4  Muertes Maternas para la razón de Mortalidad M...  \n",
      "\n",
      "[5 rows x 58 columns]\n"
     ]
    }
   ],
   "source": [
    "print(BdDkmeans.head())"
   ]
  },
  {
   "cell_type": "code",
   "execution_count": 5,
   "metadata": {
    "scrolled": true
   },
   "outputs": [
    {
     "name": "stdout",
     "output_type": "stream",
     "text": [
      "['Año de nacimiento' 'Mes de nacimiento'\n",
      " 'Descripción del mes de nacimiento' 'Día de nacimiento' 'Genero'\n",
      " 'Clave de la edad' 'Edad cumplida' 'Estado conyugal'\n",
      " 'Descripción del estado conyugal' 'Entidad de residencia'\n",
      " 'Descripción de entidad de residencia' 'Municipio de residencia'\n",
      " 'Descripción del municipio de residencia' 'Localidad de residencia'\n",
      " 'Descripión de la localidad de residencia' 'Tamaño de localidad'\n",
      " 'Descripción del tamaño de localidad' 'Ocupación habitual'\n",
      " 'Descripción de la ocupación habitual' 'Escolaridad'\n",
      " 'Descripción de la escolaridad' 'Derechiahabiencia'\n",
      " 'Descrición de la derechiahabiencia' 'Entidad de ocurrencia'\n",
      " 'Descripción de la entidad de ocurrencia' 'Municipio de ocurrencia'\n",
      " 'Descrición del municipio de ocurrencia' 'Localidad de ocurrencia'\n",
      " 'Descrición de la localidad de ocurrencia'\n",
      " 'Sitio donde ocurrio la defunción'\n",
      " 'Descripción del sitio donde ocurrio la defunción' 'Año de la defunción'\n",
      " 'Mes de la defunción' 'Descrición del mes de la defunción'\n",
      " 'Día de la defunción' 'Hora de la defunción' 'Minutos de la defunción'\n",
      " 'Asistencia médica' 'Descripción de la asistencia médica'\n",
      " 'Causa CIE a  cuarto dígito' 'Descrición de la causa CIE'\n",
      " 'Quien certificó' 'Descrición de quien certificó' 'Entidad de registro'\n",
      " 'Descrición de la entidad de registro' 'Municipio de registro'\n",
      " 'Descrición del municipio de registro' 'Año de registro'\n",
      " 'Mes de registro' 'Descripción del mes de registro' 'Día de registro'\n",
      " 'Año de la certificación' 'Mes de la certificación'\n",
      " 'Descripció del mes de la certificación' 'Día de la certificación'\n",
      " 'Año de la base de datos' 'Razón de mortalidad materna'\n",
      " 'Descrición de la razón de mortalidad materna']\n"
     ]
    }
   ],
   "source": [
    "print(BdDkmeans.columns.values)"
   ]
  },
  {
   "cell_type": "markdown",
   "metadata": {},
   "source": [
    "It is very important to note that not all machine learning algorithms support missing values in the data that you are feeding to them. K-Means being one of them. So we need to handle the missing values present in the data. Let's first see where are the values missing:"
   ]
  },
  {
   "cell_type": "code",
   "execution_count": 6,
   "metadata": {
    "scrolled": true
   },
   "outputs": [
    {
     "data": {
      "text/html": [
       "<div>\n",
       "<style scoped>\n",
       "    .dataframe tbody tr th:only-of-type {\n",
       "        vertical-align: middle;\n",
       "    }\n",
       "\n",
       "    .dataframe tbody tr th {\n",
       "        vertical-align: top;\n",
       "    }\n",
       "\n",
       "    .dataframe thead th {\n",
       "        text-align: right;\n",
       "    }\n",
       "</style>\n",
       "<table border=\"1\" class=\"dataframe\">\n",
       "  <thead>\n",
       "    <tr style=\"text-align: right;\">\n",
       "      <th></th>\n",
       "      <th>Año de nacimiento</th>\n",
       "      <th>Mes de nacimiento</th>\n",
       "      <th>Descripción del mes de nacimiento</th>\n",
       "      <th>Día de nacimiento</th>\n",
       "      <th>Genero</th>\n",
       "      <th>Clave de la edad</th>\n",
       "      <th>Edad cumplida</th>\n",
       "      <th>Estado conyugal</th>\n",
       "      <th>Descripción del estado conyugal</th>\n",
       "      <th>Entidad de residencia</th>\n",
       "      <th>...</th>\n",
       "      <th>Mes de registro</th>\n",
       "      <th>Descripción del mes de registro</th>\n",
       "      <th>Día de registro</th>\n",
       "      <th>Año de la certificación</th>\n",
       "      <th>Mes de la certificación</th>\n",
       "      <th>Descripció del mes de la certificación</th>\n",
       "      <th>Día de la certificación</th>\n",
       "      <th>Año de la base de datos</th>\n",
       "      <th>Razón de mortalidad materna</th>\n",
       "      <th>Descrición de la razón de mortalidad materna</th>\n",
       "    </tr>\n",
       "  </thead>\n",
       "  <tbody>\n",
       "    <tr>\n",
       "      <th>0</th>\n",
       "      <td>False</td>\n",
       "      <td>False</td>\n",
       "      <td>False</td>\n",
       "      <td>False</td>\n",
       "      <td>False</td>\n",
       "      <td>False</td>\n",
       "      <td>False</td>\n",
       "      <td>False</td>\n",
       "      <td>False</td>\n",
       "      <td>False</td>\n",
       "      <td>...</td>\n",
       "      <td>False</td>\n",
       "      <td>False</td>\n",
       "      <td>False</td>\n",
       "      <td>True</td>\n",
       "      <td>False</td>\n",
       "      <td>False</td>\n",
       "      <td>True</td>\n",
       "      <td>False</td>\n",
       "      <td>False</td>\n",
       "      <td>False</td>\n",
       "    </tr>\n",
       "    <tr>\n",
       "      <th>1</th>\n",
       "      <td>False</td>\n",
       "      <td>False</td>\n",
       "      <td>False</td>\n",
       "      <td>False</td>\n",
       "      <td>False</td>\n",
       "      <td>False</td>\n",
       "      <td>False</td>\n",
       "      <td>False</td>\n",
       "      <td>False</td>\n",
       "      <td>False</td>\n",
       "      <td>...</td>\n",
       "      <td>False</td>\n",
       "      <td>False</td>\n",
       "      <td>False</td>\n",
       "      <td>True</td>\n",
       "      <td>False</td>\n",
       "      <td>False</td>\n",
       "      <td>True</td>\n",
       "      <td>False</td>\n",
       "      <td>False</td>\n",
       "      <td>False</td>\n",
       "    </tr>\n",
       "    <tr>\n",
       "      <th>2</th>\n",
       "      <td>False</td>\n",
       "      <td>False</td>\n",
       "      <td>False</td>\n",
       "      <td>False</td>\n",
       "      <td>False</td>\n",
       "      <td>False</td>\n",
       "      <td>False</td>\n",
       "      <td>False</td>\n",
       "      <td>False</td>\n",
       "      <td>False</td>\n",
       "      <td>...</td>\n",
       "      <td>False</td>\n",
       "      <td>False</td>\n",
       "      <td>False</td>\n",
       "      <td>True</td>\n",
       "      <td>False</td>\n",
       "      <td>False</td>\n",
       "      <td>True</td>\n",
       "      <td>False</td>\n",
       "      <td>False</td>\n",
       "      <td>False</td>\n",
       "    </tr>\n",
       "    <tr>\n",
       "      <th>3</th>\n",
       "      <td>False</td>\n",
       "      <td>False</td>\n",
       "      <td>False</td>\n",
       "      <td>False</td>\n",
       "      <td>False</td>\n",
       "      <td>False</td>\n",
       "      <td>False</td>\n",
       "      <td>False</td>\n",
       "      <td>False</td>\n",
       "      <td>False</td>\n",
       "      <td>...</td>\n",
       "      <td>False</td>\n",
       "      <td>False</td>\n",
       "      <td>False</td>\n",
       "      <td>True</td>\n",
       "      <td>False</td>\n",
       "      <td>False</td>\n",
       "      <td>True</td>\n",
       "      <td>False</td>\n",
       "      <td>False</td>\n",
       "      <td>False</td>\n",
       "    </tr>\n",
       "    <tr>\n",
       "      <th>4</th>\n",
       "      <td>False</td>\n",
       "      <td>False</td>\n",
       "      <td>False</td>\n",
       "      <td>False</td>\n",
       "      <td>False</td>\n",
       "      <td>False</td>\n",
       "      <td>False</td>\n",
       "      <td>False</td>\n",
       "      <td>False</td>\n",
       "      <td>False</td>\n",
       "      <td>...</td>\n",
       "      <td>False</td>\n",
       "      <td>False</td>\n",
       "      <td>False</td>\n",
       "      <td>False</td>\n",
       "      <td>False</td>\n",
       "      <td>False</td>\n",
       "      <td>False</td>\n",
       "      <td>False</td>\n",
       "      <td>False</td>\n",
       "      <td>False</td>\n",
       "    </tr>\n",
       "  </tbody>\n",
       "</table>\n",
       "<p>5 rows × 58 columns</p>\n",
       "</div>"
      ],
      "text/plain": [
       "   Año de nacimiento  Mes de nacimiento  Descripción del mes de nacimiento  \\\n",
       "0              False              False                              False   \n",
       "1              False              False                              False   \n",
       "2              False              False                              False   \n",
       "3              False              False                              False   \n",
       "4              False              False                              False   \n",
       "\n",
       "   Día de nacimiento  Genero  Clave de la edad  Edad cumplida  \\\n",
       "0              False   False             False          False   \n",
       "1              False   False             False          False   \n",
       "2              False   False             False          False   \n",
       "3              False   False             False          False   \n",
       "4              False   False             False          False   \n",
       "\n",
       "   Estado conyugal  Descripción del estado conyugal  Entidad de residencia  \\\n",
       "0            False                            False                  False   \n",
       "1            False                            False                  False   \n",
       "2            False                            False                  False   \n",
       "3            False                            False                  False   \n",
       "4            False                            False                  False   \n",
       "\n",
       "                       ...                       Mes de registro  \\\n",
       "0                      ...                                 False   \n",
       "1                      ...                                 False   \n",
       "2                      ...                                 False   \n",
       "3                      ...                                 False   \n",
       "4                      ...                                 False   \n",
       "\n",
       "   Descripción del mes de registro  Día de registro  Año de la certificación  \\\n",
       "0                            False            False                     True   \n",
       "1                            False            False                     True   \n",
       "2                            False            False                     True   \n",
       "3                            False            False                     True   \n",
       "4                            False            False                    False   \n",
       "\n",
       "   Mes de la certificación  Descripció del mes de la certificación  \\\n",
       "0                    False                                   False   \n",
       "1                    False                                   False   \n",
       "2                    False                                   False   \n",
       "3                    False                                   False   \n",
       "4                    False                                   False   \n",
       "\n",
       "   Día de la certificación  Año de la base de datos  \\\n",
       "0                     True                    False   \n",
       "1                     True                    False   \n",
       "2                     True                    False   \n",
       "3                     True                    False   \n",
       "4                    False                    False   \n",
       "\n",
       "   Razón de mortalidad materna  Descrición de la razón de mortalidad materna  \n",
       "0                        False                                         False  \n",
       "1                        False                                         False  \n",
       "2                        False                                         False  \n",
       "3                        False                                         False  \n",
       "4                        False                                         False  \n",
       "\n",
       "[5 rows x 58 columns]"
      ]
     },
     "execution_count": 6,
     "metadata": {},
     "output_type": "execute_result"
    }
   ],
   "source": [
    "BdDkmeans.isna().head()"
   ]
  },
  {
   "cell_type": "markdown",
   "metadata": {},
   "source": [
    "Let's get the total number of missing values in the dataset."
   ]
  },
  {
   "cell_type": "code",
   "execution_count": 7,
   "metadata": {},
   "outputs": [
    {
     "name": "stdout",
     "output_type": "stream",
     "text": [
      "Año de nacimiento                                      0\n",
      "Mes de nacimiento                                      0\n",
      "Descripción del mes de nacimiento                      0\n",
      "Día de nacimiento                                      0\n",
      "Genero                                                 0\n",
      "Clave de la edad                                       0\n",
      "Edad cumplida                                          0\n",
      "Estado conyugal                                        0\n",
      "Descripción del estado conyugal                        0\n",
      "Entidad de residencia                                  0\n",
      "Descripción de entidad de residencia                   0\n",
      "Municipio de residencia                                0\n",
      "Descripción del municipio de residencia                0\n",
      "Localidad de residencia                                0\n",
      "Descripión de la localidad de residencia               0\n",
      "Tamaño de localidad                                    0\n",
      "Descripción del tamaño de localidad                    0\n",
      "Ocupación habitual                                     0\n",
      "Descripción de la ocupación habitual                  87\n",
      "Escolaridad                                            0\n",
      "Descripción de la escolaridad                          0\n",
      "Derechiahabiencia                                      0\n",
      "Descrición de la derechiahabiencia                     0\n",
      "Entidad de ocurrencia                                  0\n",
      "Descripción de la entidad de ocurrencia                0\n",
      "Municipio de ocurrencia                                0\n",
      "Descrición del municipio de ocurrencia                 0\n",
      "Localidad de ocurrencia                                0\n",
      "Descrición de la localidad de ocurrencia               0\n",
      "Sitio donde ocurrio la defunción                       0\n",
      "Descripción del sitio donde ocurrio la defunción       0\n",
      "Año de la defunción                                    0\n",
      "Mes de la defunción                                    0\n",
      "Descrición del mes de la defunción                     0\n",
      "Día de la defunción                                    0\n",
      "Hora de la defunción                                   0\n",
      "Minutos de la defunción                                0\n",
      "Asistencia médica                                      0\n",
      "Descripción de la asistencia médica                    0\n",
      "Causa CIE a  cuarto dígito                             0\n",
      "Descrición de la causa CIE                             0\n",
      "Quien certificó                                        0\n",
      "Descrición de quien certificó                          0\n",
      "Entidad de registro                                    0\n",
      "Descrición de la entidad de registro                   0\n",
      "Municipio de registro                                  0\n",
      "Descrición del municipio de registro                   0\n",
      "Año de registro                                        0\n",
      "Mes de registro                                        0\n",
      "Descripción del mes de registro                        0\n",
      "Día de registro                                        0\n",
      "Año de la certificación                             2682\n",
      "Mes de la certificación                                0\n",
      "Descripció del mes de la certificación                 0\n",
      "Día de la certificación                             2682\n",
      "Año de la base de datos                                0\n",
      "Razón de mortalidad materna                            0\n",
      "Descrición de la razón de mortalidad materna           0\n",
      "dtype: int64\n"
     ]
    }
   ],
   "source": [
    "print(BdDkmeans.isna().sum())"
   ]
  },
  {
   "cell_type": "markdown",
   "metadata": {},
   "source": [
    "There are a couple of ways to handle missing values:\n",
    "\n",
    "    Remove rows with missing values\n",
    "    Impute missing values\n",
    "\n",
    "I prefer the latter one because if you remove the rows with missing values it can cause insufficiency in the data which in turn results in inefficient training of the machine learning model.\n",
    "\n",
    "Now, there are several ways you can perform the imputation:\n",
    "\n",
    "    A constant value that has meaning within the domain, such as 0, distinct from all other values.\n",
    "    A value from another randomly selected record.\n",
    "    A mean, median or mode value for the column.\n",
    "    A value estimated by another machine learning model.\n",
    "\n",
    "Any imputation performed on the train set will have to be performed on test data in the future when predictions are needed from the final machine learning model. This needs to be taken into consideration when choosing how to impute the missing values.\n",
    "\n",
    "Pandas provides the fillna() function for replacing missing values with a specific value. Let's apply that with Mean Imputation."
   ]
  },
  {
   "cell_type": "code",
   "execution_count": 8,
   "metadata": {},
   "outputs": [],
   "source": [
    "# Fill missing values with mean column values in the train set\n",
    "BdDkmeans.fillna(BdDkmeans.mean(), inplace=True)"
   ]
  },
  {
   "cell_type": "markdown",
   "metadata": {},
   "source": [
    "Now that you have imputed the missing values in the dataset, it's time to see if the dataset still has any missing values.\n",
    "\n",
    "For the dataset:"
   ]
  },
  {
   "cell_type": "code",
   "execution_count": 9,
   "metadata": {},
   "outputs": [
    {
     "name": "stdout",
     "output_type": "stream",
     "text": [
      "Año de nacimiento                                    0\n",
      "Mes de nacimiento                                    0\n",
      "Descripción del mes de nacimiento                    0\n",
      "Día de nacimiento                                    0\n",
      "Genero                                               0\n",
      "Clave de la edad                                     0\n",
      "Edad cumplida                                        0\n",
      "Estado conyugal                                      0\n",
      "Descripción del estado conyugal                      0\n",
      "Entidad de residencia                                0\n",
      "Descripción de entidad de residencia                 0\n",
      "Municipio de residencia                              0\n",
      "Descripción del municipio de residencia              0\n",
      "Localidad de residencia                              0\n",
      "Descripión de la localidad de residencia             0\n",
      "Tamaño de localidad                                  0\n",
      "Descripción del tamaño de localidad                  0\n",
      "Ocupación habitual                                   0\n",
      "Descripción de la ocupación habitual                87\n",
      "Escolaridad                                          0\n",
      "Descripción de la escolaridad                        0\n",
      "Derechiahabiencia                                    0\n",
      "Descrición de la derechiahabiencia                   0\n",
      "Entidad de ocurrencia                                0\n",
      "Descripción de la entidad de ocurrencia              0\n",
      "Municipio de ocurrencia                              0\n",
      "Descrición del municipio de ocurrencia               0\n",
      "Localidad de ocurrencia                              0\n",
      "Descrición de la localidad de ocurrencia             0\n",
      "Sitio donde ocurrio la defunción                     0\n",
      "Descripción del sitio donde ocurrio la defunción     0\n",
      "Año de la defunción                                  0\n",
      "Mes de la defunción                                  0\n",
      "Descrición del mes de la defunción                   0\n",
      "Día de la defunción                                  0\n",
      "Hora de la defunción                                 0\n",
      "Minutos de la defunción                              0\n",
      "Asistencia médica                                    0\n",
      "Descripción de la asistencia médica                  0\n",
      "Causa CIE a  cuarto dígito                           0\n",
      "Descrición de la causa CIE                           0\n",
      "Quien certificó                                      0\n",
      "Descrición de quien certificó                        0\n",
      "Entidad de registro                                  0\n",
      "Descrición de la entidad de registro                 0\n",
      "Municipio de registro                                0\n",
      "Descrición del municipio de registro                 0\n",
      "Año de registro                                      0\n",
      "Mes de registro                                      0\n",
      "Descripción del mes de registro                      0\n",
      "Día de registro                                      0\n",
      "Año de la certificación                              0\n",
      "Mes de la certificación                              0\n",
      "Descripció del mes de la certificación               0\n",
      "Día de la certificación                              0\n",
      "Año de la base de datos                              0\n",
      "Razón de mortalidad materna                          0\n",
      "Descrición de la razón de mortalidad materna         0\n",
      "dtype: int64\n"
     ]
    }
   ],
   "source": [
    "print(BdDkmeans.isna().sum())"
   ]
  },
  {
   "cell_type": "markdown",
   "metadata": {},
   "source": [
    "Let's see if you have any missing values in the test set."
   ]
  },
  {
   "cell_type": "code",
   "execution_count": 10,
   "metadata": {},
   "outputs": [
    {
     "name": "stdout",
     "output_type": "stream",
     "text": [
      "Año de nacimiento                                    0\n",
      "Mes de nacimiento                                    0\n",
      "Descripción del mes de nacimiento                    0\n",
      "Día de nacimiento                                    0\n",
      "Genero                                               0\n",
      "Clave de la edad                                     0\n",
      "Edad cumplida                                        0\n",
      "Estado conyugal                                      0\n",
      "Descripción del estado conyugal                      0\n",
      "Entidad de residencia                                0\n",
      "Descripción de entidad de residencia                 0\n",
      "Municipio de residencia                              0\n",
      "Descripción del municipio de residencia              0\n",
      "Localidad de residencia                              0\n",
      "Descripión de la localidad de residencia             0\n",
      "Tamaño de localidad                                  0\n",
      "Descripción del tamaño de localidad                  0\n",
      "Ocupación habitual                                   0\n",
      "Descripción de la ocupación habitual                87\n",
      "Escolaridad                                          0\n",
      "Descripción de la escolaridad                        0\n",
      "Derechiahabiencia                                    0\n",
      "Descrición de la derechiahabiencia                   0\n",
      "Entidad de ocurrencia                                0\n",
      "Descripción de la entidad de ocurrencia              0\n",
      "Municipio de ocurrencia                              0\n",
      "Descrición del municipio de ocurrencia               0\n",
      "Localidad de ocurrencia                              0\n",
      "Descrición de la localidad de ocurrencia             0\n",
      "Sitio donde ocurrio la defunción                     0\n",
      "Descripción del sitio donde ocurrio la defunción     0\n",
      "Año de la defunción                                  0\n",
      "Mes de la defunción                                  0\n",
      "Descrición del mes de la defunción                   0\n",
      "Día de la defunción                                  0\n",
      "Hora de la defunción                                 0\n",
      "Minutos de la defunción                              0\n",
      "Asistencia médica                                    0\n",
      "Descripción de la asistencia médica                  0\n",
      "Causa CIE a  cuarto dígito                           0\n",
      "Descrición de la causa CIE                           0\n",
      "Quien certificó                                      0\n",
      "Descrición de quien certificó                        0\n",
      "Entidad de registro                                  0\n",
      "Descrición de la entidad de registro                 0\n",
      "Municipio de registro                                0\n",
      "Descrición del municipio de registro                 0\n",
      "Año de registro                                      0\n",
      "Mes de registro                                      0\n",
      "Descripción del mes de registro                      0\n",
      "Día de registro                                      0\n",
      "Año de la certificación                              0\n",
      "Mes de la certificación                              0\n",
      "Descripció del mes de la certificación               0\n",
      "Día de la certificación                              0\n",
      "Año de la base de datos                              0\n",
      "Razón de mortalidad materna                          0\n",
      "Descrición de la razón de mortalidad materna         0\n",
      "dtype: int64\n"
     ]
    }
   ],
   "source": [
    "print(BdDkmeans.isna().sum())"
   ]
  },
  {
   "cell_type": "markdown",
   "metadata": {},
   "source": [
    "Yes, you can see there are still some missing values in the Cabin and Embarked columns. This is because these values are non-numeric. In order to perform the imputation the values need to be in numeric form. There are ways to convert a non-numeric value to a numeric one. More on this later.\n",
    "\n",
    "Let's do some more analytics in order to understand the data better. Understanding is really required in order to perform any Machine Learning task. Let's start with finding out which features are categorical and which are numerical."
   ]
  },
  {
   "cell_type": "markdown",
   "metadata": {},
   "source": [
    "Let's see a feature or variable with respect to other features:"
   ]
  },
  {
   "cell_type": "code",
   "execution_count": 11,
   "metadata": {},
   "outputs": [
    {
     "data": {
      "text/html": [
       "<div>\n",
       "<style scoped>\n",
       "    .dataframe tbody tr th:only-of-type {\n",
       "        vertical-align: middle;\n",
       "    }\n",
       "\n",
       "    .dataframe tbody tr th {\n",
       "        vertical-align: top;\n",
       "    }\n",
       "\n",
       "    .dataframe thead th {\n",
       "        text-align: right;\n",
       "    }\n",
       "</style>\n",
       "<table border=\"1\" class=\"dataframe\">\n",
       "  <thead>\n",
       "    <tr style=\"text-align: right;\">\n",
       "      <th></th>\n",
       "      <th>Razón de mortalidad materna</th>\n",
       "      <th>Localidad de ocurrencia</th>\n",
       "    </tr>\n",
       "  </thead>\n",
       "  <tbody>\n",
       "    <tr>\n",
       "      <th>1</th>\n",
       "      <td>1</td>\n",
       "      <td>17.636426</td>\n",
       "    </tr>\n",
       "    <tr>\n",
       "      <th>0</th>\n",
       "      <td>0</td>\n",
       "      <td>19.510220</td>\n",
       "    </tr>\n",
       "  </tbody>\n",
       "</table>\n",
       "</div>"
      ],
      "text/plain": [
       "   Razón de mortalidad materna  Localidad de ocurrencia\n",
       "1                            1                17.636426\n",
       "0                            0                19.510220"
      ]
     },
     "execution_count": 11,
     "metadata": {},
     "output_type": "execute_result"
    }
   ],
   "source": [
    "#en el ejemplo train[['Pclass', 'Survived']].groupby(['Pclass'], as_index=False).mean().sort_values(by='Survived', ascending=False)\n",
    "BdDkmeans[['Localidad de ocurrencia', 'Razón de mortalidad materna']].groupby(['Razón de mortalidad materna'], as_index=False).mean().sort_values(by='Razón de mortalidad materna', ascending=False)"
   ]
  },
  {
   "cell_type": "code",
   "execution_count": 12,
   "metadata": {},
   "outputs": [
    {
     "data": {
      "text/html": [
       "<div>\n",
       "<style scoped>\n",
       "    .dataframe tbody tr th:only-of-type {\n",
       "        vertical-align: middle;\n",
       "    }\n",
       "\n",
       "    .dataframe tbody tr th {\n",
       "        vertical-align: top;\n",
       "    }\n",
       "\n",
       "    .dataframe thead th {\n",
       "        text-align: right;\n",
       "    }\n",
       "</style>\n",
       "<table border=\"1\" class=\"dataframe\">\n",
       "  <thead>\n",
       "    <tr style=\"text-align: right;\">\n",
       "      <th></th>\n",
       "      <th>Edad cumplida</th>\n",
       "      <th>Año de la defunción</th>\n",
       "    </tr>\n",
       "  </thead>\n",
       "  <tbody>\n",
       "    <tr>\n",
       "      <th>33</th>\n",
       "      <td>44</td>\n",
       "      <td>2009.084211</td>\n",
       "    </tr>\n",
       "    <tr>\n",
       "      <th>36</th>\n",
       "      <td>47</td>\n",
       "      <td>2009.040000</td>\n",
       "    </tr>\n",
       "    <tr>\n",
       "      <th>0</th>\n",
       "      <td>11</td>\n",
       "      <td>2009.000000</td>\n",
       "    </tr>\n",
       "    <tr>\n",
       "      <th>5</th>\n",
       "      <td>16</td>\n",
       "      <td>2008.991098</td>\n",
       "    </tr>\n",
       "    <tr>\n",
       "      <th>7</th>\n",
       "      <td>18</td>\n",
       "      <td>2008.807167</td>\n",
       "    </tr>\n",
       "    <tr>\n",
       "      <th>14</th>\n",
       "      <td>25</td>\n",
       "      <td>2008.701828</td>\n",
       "    </tr>\n",
       "    <tr>\n",
       "      <th>28</th>\n",
       "      <td>39</td>\n",
       "      <td>2008.693002</td>\n",
       "    </tr>\n",
       "    <tr>\n",
       "      <th>2</th>\n",
       "      <td>13</td>\n",
       "      <td>2008.687500</td>\n",
       "    </tr>\n",
       "    <tr>\n",
       "      <th>35</th>\n",
       "      <td>46</td>\n",
       "      <td>2008.625000</td>\n",
       "    </tr>\n",
       "    <tr>\n",
       "      <th>30</th>\n",
       "      <td>41</td>\n",
       "      <td>2008.567460</td>\n",
       "    </tr>\n",
       "    <tr>\n",
       "      <th>4</th>\n",
       "      <td>15</td>\n",
       "      <td>2008.559748</td>\n",
       "    </tr>\n",
       "    <tr>\n",
       "      <th>12</th>\n",
       "      <td>23</td>\n",
       "      <td>2008.512920</td>\n",
       "    </tr>\n",
       "    <tr>\n",
       "      <th>15</th>\n",
       "      <td>26</td>\n",
       "      <td>2008.508475</td>\n",
       "    </tr>\n",
       "    <tr>\n",
       "      <th>10</th>\n",
       "      <td>21</td>\n",
       "      <td>2008.494860</td>\n",
       "    </tr>\n",
       "    <tr>\n",
       "      <th>20</th>\n",
       "      <td>31</td>\n",
       "      <td>2008.467568</td>\n",
       "    </tr>\n",
       "    <tr>\n",
       "      <th>6</th>\n",
       "      <td>17</td>\n",
       "      <td>2008.461538</td>\n",
       "    </tr>\n",
       "    <tr>\n",
       "      <th>22</th>\n",
       "      <td>33</td>\n",
       "      <td>2008.461219</td>\n",
       "    </tr>\n",
       "    <tr>\n",
       "      <th>8</th>\n",
       "      <td>19</td>\n",
       "      <td>2008.448882</td>\n",
       "    </tr>\n",
       "    <tr>\n",
       "      <th>9</th>\n",
       "      <td>20</td>\n",
       "      <td>2008.422535</td>\n",
       "    </tr>\n",
       "    <tr>\n",
       "      <th>13</th>\n",
       "      <td>24</td>\n",
       "      <td>2008.388418</td>\n",
       "    </tr>\n",
       "    <tr>\n",
       "      <th>17</th>\n",
       "      <td>28</td>\n",
       "      <td>2008.340397</td>\n",
       "    </tr>\n",
       "    <tr>\n",
       "      <th>16</th>\n",
       "      <td>27</td>\n",
       "      <td>2008.332877</td>\n",
       "    </tr>\n",
       "    <tr>\n",
       "      <th>26</th>\n",
       "      <td>37</td>\n",
       "      <td>2008.312169</td>\n",
       "    </tr>\n",
       "    <tr>\n",
       "      <th>11</th>\n",
       "      <td>22</td>\n",
       "      <td>2008.309459</td>\n",
       "    </tr>\n",
       "    <tr>\n",
       "      <th>25</th>\n",
       "      <td>36</td>\n",
       "      <td>2008.270142</td>\n",
       "    </tr>\n",
       "    <tr>\n",
       "      <th>19</th>\n",
       "      <td>30</td>\n",
       "      <td>2008.268734</td>\n",
       "    </tr>\n",
       "    <tr>\n",
       "      <th>27</th>\n",
       "      <td>38</td>\n",
       "      <td>2008.224696</td>\n",
       "    </tr>\n",
       "    <tr>\n",
       "      <th>18</th>\n",
       "      <td>29</td>\n",
       "      <td>2008.204961</td>\n",
       "    </tr>\n",
       "    <tr>\n",
       "      <th>21</th>\n",
       "      <td>32</td>\n",
       "      <td>2008.143826</td>\n",
       "    </tr>\n",
       "    <tr>\n",
       "      <th>23</th>\n",
       "      <td>34</td>\n",
       "      <td>2008.108108</td>\n",
       "    </tr>\n",
       "    <tr>\n",
       "      <th>24</th>\n",
       "      <td>35</td>\n",
       "      <td>2008.002869</td>\n",
       "    </tr>\n",
       "    <tr>\n",
       "      <th>39</th>\n",
       "      <td>50</td>\n",
       "      <td>2008.000000</td>\n",
       "    </tr>\n",
       "    <tr>\n",
       "      <th>29</th>\n",
       "      <td>40</td>\n",
       "      <td>2007.981928</td>\n",
       "    </tr>\n",
       "    <tr>\n",
       "      <th>34</th>\n",
       "      <td>45</td>\n",
       "      <td>2007.909091</td>\n",
       "    </tr>\n",
       "    <tr>\n",
       "      <th>32</th>\n",
       "      <td>43</td>\n",
       "      <td>2007.595890</td>\n",
       "    </tr>\n",
       "    <tr>\n",
       "      <th>31</th>\n",
       "      <td>42</td>\n",
       "      <td>2007.455882</td>\n",
       "    </tr>\n",
       "    <tr>\n",
       "      <th>37</th>\n",
       "      <td>48</td>\n",
       "      <td>2007.421053</td>\n",
       "    </tr>\n",
       "    <tr>\n",
       "      <th>3</th>\n",
       "      <td>14</td>\n",
       "      <td>2006.944444</td>\n",
       "    </tr>\n",
       "    <tr>\n",
       "      <th>38</th>\n",
       "      <td>49</td>\n",
       "      <td>2006.333333</td>\n",
       "    </tr>\n",
       "    <tr>\n",
       "      <th>1</th>\n",
       "      <td>12</td>\n",
       "      <td>2006.111111</td>\n",
       "    </tr>\n",
       "  </tbody>\n",
       "</table>\n",
       "</div>"
      ],
      "text/plain": [
       "    Edad cumplida  Año de la defunción\n",
       "33             44          2009.084211\n",
       "36             47          2009.040000\n",
       "0              11          2009.000000\n",
       "5              16          2008.991098\n",
       "7              18          2008.807167\n",
       "14             25          2008.701828\n",
       "28             39          2008.693002\n",
       "2              13          2008.687500\n",
       "35             46          2008.625000\n",
       "30             41          2008.567460\n",
       "4              15          2008.559748\n",
       "12             23          2008.512920\n",
       "15             26          2008.508475\n",
       "10             21          2008.494860\n",
       "20             31          2008.467568\n",
       "6              17          2008.461538\n",
       "22             33          2008.461219\n",
       "8              19          2008.448882\n",
       "9              20          2008.422535\n",
       "13             24          2008.388418\n",
       "17             28          2008.340397\n",
       "16             27          2008.332877\n",
       "26             37          2008.312169\n",
       "11             22          2008.309459\n",
       "25             36          2008.270142\n",
       "19             30          2008.268734\n",
       "27             38          2008.224696\n",
       "18             29          2008.204961\n",
       "21             32          2008.143826\n",
       "23             34          2008.108108\n",
       "24             35          2008.002869\n",
       "39             50          2008.000000\n",
       "29             40          2007.981928\n",
       "34             45          2007.909091\n",
       "32             43          2007.595890\n",
       "31             42          2007.455882\n",
       "37             48          2007.421053\n",
       "3              14          2006.944444\n",
       "38             49          2006.333333\n",
       "1              12          2006.111111"
      ]
     },
     "execution_count": 12,
     "metadata": {},
     "output_type": "execute_result"
    }
   ],
   "source": [
    "#en el ejemplo train[['Pclass', 'Survived']].groupby(['Pclass'], as_index=False).mean().sort_values(by='Survived', ascending=False)\n",
    "BdDkmeans[['Edad cumplida', 'Año de la defunción']].groupby(['Edad cumplida'], as_index=False).mean().sort_values(by='Año de la defunción', ascending=False)"
   ]
  },
  {
   "cell_type": "markdown",
   "metadata": {},
   "source": [
    "Now it's time for some quick plotting. Let's first plot the graph of \"Age vs. mortality\":"
   ]
  },
  {
   "cell_type": "markdown",
   "metadata": {},
   "source": [
    "## Aqui me volvio  pasar lo mismo que con las otras graficas, se me dispara horrores la edad necesito limpiar registros extraños para tener un conjunto mas uniforme"
   ]
  },
  {
   "cell_type": "code",
   "execution_count": 14,
   "metadata": {},
   "outputs": [],
   "source": [
    "agrupados_anio=BdDkmeans.groupby(['Año de la defunción','Edad cumplida'])"
   ]
  },
  {
   "cell_type": "code",
   "execution_count": 17,
   "metadata": {},
   "outputs": [],
   "source": [
    "#puse mayor al 2000 porque venian regitros muy viejos del 1950 y asi y mi grafica realmente toma peso a partir del 2000\n",
    "BdDkmeans=BdDkmeans[BdDkmeans['Año de la defunción']>=2000]"
   ]
  },
  {
   "cell_type": "code",
   "execution_count": 21,
   "metadata": {},
   "outputs": [
    {
     "data": {
      "image/png": "[encoded data removed]",
      "text/plain": [
       "<Figure size 432x288 with 1 Axes>"
      ]
     },
     "metadata": {
      "needs_background": "light"
     },
     "output_type": "display_data"
    }
   ],
   "source": [
    "BdDkmeans['Año de la defunción'].plot(kind='hist',bins=20)\n",
    "plt.xlabel('Año de fallecimiento')\n",
    "plt.ylabel('Num. de madres')\n",
    "plt.show()"
   ]
  },
  {
   "cell_type": "code",
   "execution_count": 22,
   "metadata": {},
   "outputs": [
    {
     "data": {
      "text/plain": [
       "<seaborn.axisgrid.FacetGrid at 0x290debc69b0>"
      ]
     },
     "execution_count": 22,
     "metadata": {},
     "output_type": "execute_result"
    },
    {
     "data": {
      "image/png": "[encoded data removed]",
      "text/plain": [
       "<Figure size 3672x216 with 17 Axes>"
      ]
     },
     "metadata": {
      "needs_background": "light"
     },
     "output_type": "display_data"
    }
   ],
   "source": [
    "g = sns.FacetGrid(BdDkmeans, col='Año de la defunción')\n",
    "g.map(plt.hist, 'Edad cumplida', bins=20)"
   ]
  }
 ],
 "metadata": {
  "kernelspec": {
   "display_name": "Python 3",
   "language": "python",
   "name": "python3"
  },
  "language_info": {
   "codemirror_mode": {
    "name": "ipython",
    "version": 3
   },
   "file_extension": ".py",
   "mimetype": "text/x-python",
   "name": "python",
   "nbconvert_exporter": "python",
   "pygments_lexer": "ipython3",
   "version": "3.7.0"
  }
 },
 "nbformat": 4,
 "nbformat_minor": 2
}
