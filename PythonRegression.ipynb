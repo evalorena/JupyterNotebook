{
 "cells": [
  {
   "cell_type": "markdown",
   "metadata": {},
   "source": [
    "### Regression using numpy (with pandas and pyplot)"
   ]
  },
  {
   "cell_type": "code",
   "execution_count": 1,
   "metadata": {},
   "outputs": [],
   "source": [
    "#importando librerias\n",
    "import csv\n",
    "import pandas as pd\n",
    "import numpy as np\n",
    "import matplotlib.pyplot as plt\n",
    "%matplotlib inline"
   ]
  },
  {
   "cell_type": "code",
   "execution_count": 2,
   "metadata": {},
   "outputs": [],
   "source": [
    "#llmas el sis opertivo y es como llamar el office\n",
    "# For compatibility across multiple platforms\n",
    "# import os\n",
    "# IB = os.environ.get('INSTABASE_URI',None) is not None\n",
    "# open = ib.open if IB else open"
   ]
  },
  {
   "cell_type": "code",
   "execution_count": 3,
   "metadata": {},
   "outputs": [],
   "source": [
    "# Read Cities.csv into dataframe\n",
    "f = open('Cities.csv')#,'rU')\n",
    "cities = pd.read_csv(f)"
   ]
  },
  {
   "cell_type": "code",
   "execution_count": 4,
   "metadata": {},
   "outputs": [
    {
     "data": {
      "text/html": [
       "<div>\n",
       "<style scoped>\n",
       "    .dataframe tbody tr th:only-of-type {\n",
       "        vertical-align: middle;\n",
       "    }\n",
       "\n",
       "    .dataframe tbody tr th {\n",
       "        vertical-align: top;\n",
       "    }\n",
       "\n",
       "    .dataframe thead th {\n",
       "        text-align: right;\n",
       "    }\n",
       "</style>\n",
       "<table border=\"1\" class=\"dataframe\">\n",
       "  <thead>\n",
       "    <tr style=\"text-align: right;\">\n",
       "      <th></th>\n",
       "      <th>city</th>\n",
       "      <th>country</th>\n",
       "      <th>latitude</th>\n",
       "      <th>longitude</th>\n",
       "      <th>temperature</th>\n",
       "    </tr>\n",
       "  </thead>\n",
       "  <tbody>\n",
       "    <tr>\n",
       "      <th>0</th>\n",
       "      <td>Aalborg</td>\n",
       "      <td>Denmark</td>\n",
       "      <td>57.03</td>\n",
       "      <td>9.92</td>\n",
       "      <td>7.52</td>\n",
       "    </tr>\n",
       "    <tr>\n",
       "      <th>1</th>\n",
       "      <td>Aberdeen</td>\n",
       "      <td>United Kingdom</td>\n",
       "      <td>57.17</td>\n",
       "      <td>-2.08</td>\n",
       "      <td>8.10</td>\n",
       "    </tr>\n",
       "    <tr>\n",
       "      <th>2</th>\n",
       "      <td>Abisko</td>\n",
       "      <td>Sweden</td>\n",
       "      <td>63.35</td>\n",
       "      <td>18.83</td>\n",
       "      <td>0.20</td>\n",
       "    </tr>\n",
       "    <tr>\n",
       "      <th>3</th>\n",
       "      <td>Adana</td>\n",
       "      <td>Turkey</td>\n",
       "      <td>36.99</td>\n",
       "      <td>35.32</td>\n",
       "      <td>18.67</td>\n",
       "    </tr>\n",
       "    <tr>\n",
       "      <th>4</th>\n",
       "      <td>Albacete</td>\n",
       "      <td>Spain</td>\n",
       "      <td>39.00</td>\n",
       "      <td>-1.87</td>\n",
       "      <td>12.62</td>\n",
       "    </tr>\n",
       "  </tbody>\n",
       "</table>\n",
       "</div>"
      ],
      "text/plain": [
       "       city         country  latitude  longitude  temperature\n",
       "0   Aalborg         Denmark     57.03       9.92         7.52\n",
       "1  Aberdeen  United Kingdom     57.17      -2.08         8.10\n",
       "2    Abisko          Sweden     63.35      18.83         0.20\n",
       "3     Adana          Turkey     36.99      35.32        18.67\n",
       "4  Albacete           Spain     39.00      -1.87        12.62"
      ]
     },
     "execution_count": 4,
     "metadata": {},
     "output_type": "execute_result"
    }
   ],
   "source": [
    "#ver los datos\n",
    "cities.head()"
   ]
  },
  {
   "cell_type": "code",
   "execution_count": 5,
   "metadata": {},
   "outputs": [
    {
     "data": {
      "text/plain": [
       "['city', 'country', 'latitude', 'longitude', 'temperature']"
      ]
     },
     "execution_count": 5,
     "metadata": {},
     "output_type": "execute_result"
    }
   ],
   "source": [
    "#muestra los encabezados de las columnas\n",
    "list(cities)"
   ]
  },
  {
   "cell_type": "code",
   "execution_count": 6,
   "metadata": {},
   "outputs": [
    {
     "data": {
      "image/png": "[encoded data removed]",
      "text/plain": [
       "<Figure size 432x288 with 1 Axes>"
      ]
     },
     "metadata": {
      "needs_background": "light"
     },
     "output_type": "display_data"
    }
   ],
   "source": [
    "# Introduction to plotting a line\n",
    "plt.plot([1,3], [2,7], color='green')\n",
    "plt.show()"
   ]
  },
  {
   "cell_type": "code",
   "execution_count": 7,
   "metadata": {},
   "outputs": [
    {
     "data": {
      "image/png": "[encoded data removed]",
      "text/plain": [
       "<Figure size 432x288 with 1 Axes>"
      ]
     },
     "metadata": {
      "needs_background": "light"
     },
     "output_type": "display_data"
    }
   ],
   "source": [
    "# Recall temperature versus latitude scatterplot\n",
    "cities.plot.scatter(x='latitude', y='temperature')\n",
    "plt.show()"
   ]
  },
  {
   "cell_type": "code",
   "execution_count": 8,
   "metadata": {},
   "outputs": [
    {
     "data": {
      "image/png": "[encoded data removed]",
      "text/plain": [
       "<Figure size 432x288 with 1 Axes>"
      ]
     },
     "metadata": {
      "needs_background": "light"
     },
     "output_type": "display_data"
    }
   ],
   "source": [
    "# Add linear regression\n",
    "cities.plot.scatter(x='latitude', y='temperature')\n",
    "a,b = np.polyfit(cities.latitude, cities.temperature, 1) # Regression line is y = ax + b\n",
    "x1 = min(cities.latitude)\n",
    "x2 = max(cities.latitude)\n",
    "plt.plot([x1,x2], [a*x1 + b, a*x2 + b], color='red')\n",
    "plt.show()\n",
    "# Beautify using plt.xlim(x1,x2)"
   ]
  },
  {
   "cell_type": "code",
   "execution_count": 9,
   "metadata": {},
   "outputs": [
    {
     "name": "stdout",
     "output_type": "stream",
     "text": [
      "Correlation coefficient for temperature versus latitude: -0.8241046320267106\n",
      "Correlation coefficient for temperature versus longitude: -0.1693075040361786\n"
     ]
    }
   ],
   "source": [
    "#AQUI CHECO LA IMPORTANCIA DE LA VARIABLE, la longitud no importa tanto realmente \n",
    "# Correlation coefficients (r values)\n",
    "cc = np.corrcoef(cities.latitude, cities.temperature)[1,0]\n",
    "print('Correlation coefficient for temperature versus latitude:', cc)\n",
    "cc = np.corrcoef(cities.longitude, cities.temperature)[1,0]\n",
    "print('Correlation coefficient for temperature versus longitude:', cc)"
   ]
  },
  {
   "cell_type": "code",
   "execution_count": null,
   "metadata": {
    "scrolled": true
   },
   "outputs": [
    {
     "data": {
      "image/png": "[encoded data removed]",
      "text/plain": [
       "<Figure size 432x288 with 1 Axes>"
      ]
     },
     "metadata": {
      "needs_background": "light"
     },
     "output_type": "display_data"
    }
   ],
   "source": [
    "# Use linear regression for interactive temperature predictor\n",
    "# Training data: compute latitude-temperature regression from cities\n",
    "# in Norway, France, and Turkey\n",
    "train = cities[(cities.country=='Norway') | (cities.country=='France') | (cities.country=='Turkey')]\n",
    "# Compute and show regression\n",
    "plt.scatter(train.latitude, train.temperature)\n",
    "a,b = np.polyfit(train.latitude, train.temperature, 1)\n",
    "x1 = min(train.latitude)\n",
    "x2 = max(train.latitude)\n",
    "plt.plot([x1,x2], [a*x1 + b, a*x2 + b], color='red')\n",
    "plt.xlim(x1,x2)\n",
    "plt.show()\n",
    "# Loop asking user for city name, compute predicted + actual temperature\n",
    "while True:\n",
    "    name = input('Enter city name (or \"quit\" to quit): ')\n",
    "    if name == 'quit': break\n",
    "    city = cities[cities.city == name]\n",
    "    if len(city) == 0:\n",
    "        print('City not in dataset')\n",
    "    else:\n",
    "        # Use float() to convert dataframe element to value\n",
    "        print('Predicted temperature:', a * float(city.latitude) + b)\n",
    "        print('Actual temperature:', float(city.temperature))"
   ]
  },
  {
   "cell_type": "markdown",
   "metadata": {
    "collapsed": true
   },
   "source": [
    "### <font color=\"green\">Your Turn: World Cup Data</font>"
   ]
  },
  {
   "cell_type": "code",
   "execution_count": null,
   "metadata": {},
   "outputs": [],
   "source": [
    "# Read Players.csv into dataframe\n",
    "f = open('Players.csv') #,'rU')\n",
    "players = pd.read_csv(f)"
   ]
  },
  {
   "cell_type": "code",
   "execution_count": null,
   "metadata": {},
   "outputs": [],
   "source": [
    "#ver los datos\n",
    "players.head()"
   ]
  },
  {
   "cell_type": "code",
   "execution_count": null,
   "metadata": {},
   "outputs": [],
   "source": [
    "# From the players data, compute and plot a linear regression for\n",
    "# passes made (y-axis) versus minutes played (x-axis).\n",
    "# Reminder: copy-paste-modify approach to programming!\n"
   ]
  },
  {
   "cell_type": "code",
   "execution_count": null,
   "metadata": {},
   "outputs": [],
   "source": [
    "# Show the correlation coefficient for the passes-minutes regression.\n",
    "# Also show correlation coefficients for tackles versus minutes, shots\n",
    "# versus minutes, and saves versus minutes"
   ]
  },
  {
   "cell_type": "code",
   "execution_count": null,
   "metadata": {},
   "outputs": [],
   "source": [
    "# Use linear regression for interactive number-of-passes predictor\n",
    "# Training data: compute minutes-passes regression for players from\n",
    "# Greece, USA, and Portugal"
   ]
  },
  {
   "cell_type": "code",
   "execution_count": null,
   "metadata": {},
   "outputs": [],
   "source": [
    "# SUPER BONUS!!\n",
    "# Repeat previous but use separate predictor for the four different positions\n",
    "# (goalkeeper,defender,midfielder,forward). Does it do better?\n",
    "# Try comparing correlation coefficients against one regression for all players.\n",
    "#\n",
    "# Note: To extract a string value from a dataframe element use df.iloc[0].element,\n",
    "# e.g., if \"player\" is a one-row dataframe, then player.iloc[0].position returns\n",
    "# the player's position as a string"
   ]
  }
 ],
 "metadata": {
  "kernelspec": {
   "display_name": "Python 3",
   "language": "python",
   "name": "python3"
  },
  "language_info": {
   "codemirror_mode": {
    "name": "ipython",
    "version": 3
   },
   "file_extension": ".py",
   "mimetype": "text/x-python",
   "name": "python",
   "nbconvert_exporter": "python",
   "pygments_lexer": "ipython3",
   "version": "3.7.0"
  }
 },
 "nbformat": 4,
 "nbformat_minor": 1
}
